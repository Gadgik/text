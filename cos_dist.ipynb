{
 "cells": [
  {
   "cell_type": "code",
   "execution_count": 1,
   "metadata": {},
   "outputs": [
    {
     "name": "stdout",
     "output_type": "stream",
     "text": [
      "WARNING:tensorflow:From C:\\Users\\vadim\\AppData\\Local\\Packages\\PythonSoftwareFoundation.Python.3.11_qbz5n2kfra8p0\\LocalCache\\local-packages\\Python311\\site-packages\\tf_keras\\src\\losses.py:2976: The name tf.losses.sparse_softmax_cross_entropy is deprecated. Please use tf.compat.v1.losses.sparse_softmax_cross_entropy instead.\n",
      "\n"
     ]
    }
   ],
   "source": [
    "import pandas as pd\n",
    "import numpy as np\n",
    "import torch\n",
    "import evaluate\n",
    "from datasets import Dataset\n",
    "from sentence_transformers import SentenceTransformer, util\n",
    "from transformers import AutoTokenizer, AutoModel, TrainingArguments, Trainer\n",
    "from sklearn.metrics.pairwise import cosine_similarity"
   ]
  },
  {
   "cell_type": "markdown",
   "metadata": {},
   "source": [
    "ai-forever/sbert_large_nlu_ru\n",
    "cointegrated/LaBSE-en-ru\n",
    "ai-forever/sbert_large_mt_nlu_ru"
   ]
  },
  {
   "cell_type": "code",
   "execution_count": 2,
   "metadata": {},
   "outputs": [],
   "source": [
    "model_name = \"ai-forever/sbert_large_nlu_ru\"\n",
    "model = SentenceTransformer(model_name)"
   ]
  },
  {
   "cell_type": "code",
   "execution_count": 3,
   "metadata": {},
   "outputs": [],
   "source": [
    "texts = [\"Газпром в убытках\",\" Дональд Трамп - 47-й президент Соединенных Штатов Америки\", \"ВК В УПАДКЕ\", \"Счастливы ли вы, что Трамп стал президентом Америки\"]"
   ]
  },
  {
   "cell_type": "code",
   "execution_count": 7,
   "metadata": {},
   "outputs": [],
   "source": [
    "embeddings = model.encode(texts, convert_to_tensor=True)"
   ]
  },
  {
   "cell_type": "code",
   "execution_count": 10,
   "metadata": {},
   "outputs": [
    {
     "data": {
      "text/plain": [
       "tensor([[ 0.0545, -0.0155, -0.0323,  ...,  0.0297, -0.0092,  0.0188],\n",
       "        [ 0.0404, -0.0321, -0.0271,  ...,  0.0079,  0.0115, -0.0087],\n",
       "        [ 0.0281, -0.0079, -0.0223,  ..., -0.0071, -0.0202,  0.0346],\n",
       "        [ 0.0360, -0.0101, -0.0280,  ...,  0.0052,  0.0091,  0.0411]],\n",
       "       device='cuda:0')"
      ]
     },
     "execution_count": 10,
     "metadata": {},
     "output_type": "execute_result"
    }
   ],
   "source": [
    "embeddings"
   ]
  },
  {
   "cell_type": "code",
   "execution_count": 15,
   "metadata": {},
   "outputs": [
    {
     "data": {
      "text/plain": [
       "tensor([0.2969, 0.6275, 0.3271], device='cuda:0')"
      ]
     },
     "execution_count": 15,
     "metadata": {},
     "output_type": "execute_result"
    }
   ],
   "source": [
    "sim = (embeddings[1:] @ embeddings[0])\n",
    "sim"
   ]
  },
  {
   "cell_type": "code",
   "execution_count": 188,
   "metadata": {},
   "outputs": [],
   "source": [
    "similarities = util.cos_sim(embeddings, embeddings)"
   ]
  },
  {
   "cell_type": "code",
   "execution_count": 189,
   "metadata": {},
   "outputs": [
    {
     "name": "stdout",
     "output_type": "stream",
     "text": [
      "1 2 0.2968932\n",
      "1 3 0.6274757\n",
      "1 4 0.32705003\n",
      "2 3 0.32915053\n",
      "2 4 0.5849748\n",
      "3 4 0.39271238\n"
     ]
    }
   ],
   "source": [
    "for i in range(len(texts)):\n",
    "    for j in range(i + 1, len(texts)):\n",
    "        print(i+1,j+1,similarities[i][j].squeeze().cpu().numpy())"
   ]
  },
  {
   "cell_type": "code",
   "execution_count": null,
   "metadata": {},
   "outputs": [],
   "source": [
    "#def get_embedding(text):\n",
    "#    # Токенизируем текст\n",
    "#    inputs = tokenizer(text, return_tensors=\"pt\", truncation=True, padding=True, max_length=512)\n",
    "#    # Получаем выход модели\n",
    "#    with torch.no_grad():\n",
    "#        outputs = model(**inputs)\n",
    "#    # Извлекаем эмбеддинг из выходных данных (последний слой)\n",
    "#    embeddings = outputs.last_hidden_state.mean(dim=1)\n",
    "#    return embeddings\n",
    "#\n",
    "## Получаем эмбеддинги для всех текстов\n",
    "#embeddings = [get_embedding(text) for text in texts]\n",
    "#\n",
    "## Преобразуем эмбеддинги в numpy массив для вычисления косинусного сходства\n",
    "#embeddings = torch.cat(embeddings, dim=0).numpy()"
   ]
  }
 ],
 "metadata": {
  "kernelspec": {
   "display_name": "Python 3",
   "language": "python",
   "name": "python3"
  },
  "language_info": {
   "codemirror_mode": {
    "name": "ipython",
    "version": 3
   },
   "file_extension": ".py",
   "mimetype": "text/x-python",
   "name": "python",
   "nbconvert_exporter": "python",
   "pygments_lexer": "ipython3",
   "version": "3.11.9"
  }
 },
 "nbformat": 4,
 "nbformat_minor": 2
}
